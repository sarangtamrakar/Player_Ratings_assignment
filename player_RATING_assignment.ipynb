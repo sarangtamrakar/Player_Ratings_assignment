{
 "cells": [
  {
   "cell_type": "code",
   "execution_count": 1,
   "metadata": {},
   "outputs": [
    {
     "data": {
      "text/plain": [
       "\"Predicting players rating\\nIn this project you are going to predict the overall rating of soccer player based on their\\nattributes such as 'crossing', 'finishing etc.\\nThe dataset you are going to use is from European Soccer Database\\n(https://www.kaggle.com/hugomathien/soccer) has more than 25,000 matches and more\\nthan 10,000 players for European professional soccer seasons from 2008 to 2016.\\nDownload the data in the same folder and run the following commmand to get it in the environment\""
      ]
     },
     "execution_count": 1,
     "metadata": {},
     "output_type": "execute_result"
    }
   ],
   "source": [
    "\"\"\"Predicting players rating\n",
    "In this project you are going to predict the overall rating of soccer player based on their\n",
    "attributes such as 'crossing', 'finishing etc.\n",
    "The dataset you are going to use is from European Soccer Database\n",
    "(https://www.kaggle.com/hugomathien/soccer) has more than 25,000 matches and more\n",
    "than 10,000 players for European professional soccer seasons from 2008 to 2016.\n",
    "Download the data in the same folder and run the following commmand to get it in the environment\"\"\""
   ]
  },
  {
   "cell_type": "code",
   "execution_count": 2,
   "metadata": {},
   "outputs": [],
   "source": [
    "import sqlite3\n",
    "import mysql.connector as sql\n",
    "import pandas as pd\n",
    "from sklearn.linear_model import LinearRegression,Lasso,Ridge,ElasticNet\n",
    "from sklearn.ensemble import AdaBoostRegressor,BaggingRegressor,GradientBoostingRegressor,RandomForestRegressor\n",
    "from sklearn.neighbors import KNeighborsRegressor\n",
    "from sklearn.preprocessing import LabelEncoder,MinMaxScaler,StandardScaler\n",
    "from sklearn.svm import SVR\n",
    "from sklearn.tree import DecisionTreeRegressor\n",
    "from xgboost import XGBRegressor\n",
    "from sklearn.model_selection import train_test_split,cross_val_score,GridSearchCV\n",
    "from sklearn.metrics import mean_squared_error,r2_score\n",
    "from math import sqrt\n",
    "import seaborn as sns\n",
    "import numpy as np\n",
    "import matplotlib.pyplot as plt\n",
    "plt.style.use(\"ggplot\")"
   ]
  },
  {
   "cell_type": "code",
   "execution_count": 3,
   "metadata": {},
   "outputs": [],
   "source": [
    "# Create your connection.\n",
    "cnx = sqlite3.connect(r'C:\\Users\\saran\\database.sqlite\\database.sqlite')\n",
    "df = pd.read_sql_query(\"SELECT * FROM Player_Attributes\", cnx)"
   ]
  },
  {
   "cell_type": "code",
   "execution_count": 4,
   "metadata": {},
   "outputs": [
    {
     "data": {
      "text/html": [
       "<div>\n",
       "<style scoped>\n",
       "    .dataframe tbody tr th:only-of-type {\n",
       "        vertical-align: middle;\n",
       "    }\n",
       "\n",
       "    .dataframe tbody tr th {\n",
       "        vertical-align: top;\n",
       "    }\n",
       "\n",
       "    .dataframe thead th {\n",
       "        text-align: right;\n",
       "    }\n",
       "</style>\n",
       "<table border=\"1\" class=\"dataframe\">\n",
       "  <thead>\n",
       "    <tr style=\"text-align: right;\">\n",
       "      <th></th>\n",
       "      <th>id</th>\n",
       "      <th>player_fifa_api_id</th>\n",
       "      <th>player_api_id</th>\n",
       "      <th>date</th>\n",
       "      <th>overall_rating</th>\n",
       "      <th>potential</th>\n",
       "      <th>preferred_foot</th>\n",
       "      <th>attacking_work_rate</th>\n",
       "      <th>defensive_work_rate</th>\n",
       "      <th>crossing</th>\n",
       "      <th>...</th>\n",
       "      <th>vision</th>\n",
       "      <th>penalties</th>\n",
       "      <th>marking</th>\n",
       "      <th>standing_tackle</th>\n",
       "      <th>sliding_tackle</th>\n",
       "      <th>gk_diving</th>\n",
       "      <th>gk_handling</th>\n",
       "      <th>gk_kicking</th>\n",
       "      <th>gk_positioning</th>\n",
       "      <th>gk_reflexes</th>\n",
       "    </tr>\n",
       "  </thead>\n",
       "  <tbody>\n",
       "    <tr>\n",
       "      <th>0</th>\n",
       "      <td>1</td>\n",
       "      <td>218353</td>\n",
       "      <td>505942</td>\n",
       "      <td>2016-02-18 00:00:00</td>\n",
       "      <td>67.0</td>\n",
       "      <td>71.0</td>\n",
       "      <td>right</td>\n",
       "      <td>medium</td>\n",
       "      <td>medium</td>\n",
       "      <td>49.0</td>\n",
       "      <td>...</td>\n",
       "      <td>54.0</td>\n",
       "      <td>48.0</td>\n",
       "      <td>65.0</td>\n",
       "      <td>69.0</td>\n",
       "      <td>69.0</td>\n",
       "      <td>6.0</td>\n",
       "      <td>11.0</td>\n",
       "      <td>10.0</td>\n",
       "      <td>8.0</td>\n",
       "      <td>8.0</td>\n",
       "    </tr>\n",
       "    <tr>\n",
       "      <th>1</th>\n",
       "      <td>2</td>\n",
       "      <td>218353</td>\n",
       "      <td>505942</td>\n",
       "      <td>2015-11-19 00:00:00</td>\n",
       "      <td>67.0</td>\n",
       "      <td>71.0</td>\n",
       "      <td>right</td>\n",
       "      <td>medium</td>\n",
       "      <td>medium</td>\n",
       "      <td>49.0</td>\n",
       "      <td>...</td>\n",
       "      <td>54.0</td>\n",
       "      <td>48.0</td>\n",
       "      <td>65.0</td>\n",
       "      <td>69.0</td>\n",
       "      <td>69.0</td>\n",
       "      <td>6.0</td>\n",
       "      <td>11.0</td>\n",
       "      <td>10.0</td>\n",
       "      <td>8.0</td>\n",
       "      <td>8.0</td>\n",
       "    </tr>\n",
       "    <tr>\n",
       "      <th>2</th>\n",
       "      <td>3</td>\n",
       "      <td>218353</td>\n",
       "      <td>505942</td>\n",
       "      <td>2015-09-21 00:00:00</td>\n",
       "      <td>62.0</td>\n",
       "      <td>66.0</td>\n",
       "      <td>right</td>\n",
       "      <td>medium</td>\n",
       "      <td>medium</td>\n",
       "      <td>49.0</td>\n",
       "      <td>...</td>\n",
       "      <td>54.0</td>\n",
       "      <td>48.0</td>\n",
       "      <td>65.0</td>\n",
       "      <td>66.0</td>\n",
       "      <td>69.0</td>\n",
       "      <td>6.0</td>\n",
       "      <td>11.0</td>\n",
       "      <td>10.0</td>\n",
       "      <td>8.0</td>\n",
       "      <td>8.0</td>\n",
       "    </tr>\n",
       "    <tr>\n",
       "      <th>3</th>\n",
       "      <td>4</td>\n",
       "      <td>218353</td>\n",
       "      <td>505942</td>\n",
       "      <td>2015-03-20 00:00:00</td>\n",
       "      <td>61.0</td>\n",
       "      <td>65.0</td>\n",
       "      <td>right</td>\n",
       "      <td>medium</td>\n",
       "      <td>medium</td>\n",
       "      <td>48.0</td>\n",
       "      <td>...</td>\n",
       "      <td>53.0</td>\n",
       "      <td>47.0</td>\n",
       "      <td>62.0</td>\n",
       "      <td>63.0</td>\n",
       "      <td>66.0</td>\n",
       "      <td>5.0</td>\n",
       "      <td>10.0</td>\n",
       "      <td>9.0</td>\n",
       "      <td>7.0</td>\n",
       "      <td>7.0</td>\n",
       "    </tr>\n",
       "    <tr>\n",
       "      <th>4</th>\n",
       "      <td>5</td>\n",
       "      <td>218353</td>\n",
       "      <td>505942</td>\n",
       "      <td>2007-02-22 00:00:00</td>\n",
       "      <td>61.0</td>\n",
       "      <td>65.0</td>\n",
       "      <td>right</td>\n",
       "      <td>medium</td>\n",
       "      <td>medium</td>\n",
       "      <td>48.0</td>\n",
       "      <td>...</td>\n",
       "      <td>53.0</td>\n",
       "      <td>47.0</td>\n",
       "      <td>62.0</td>\n",
       "      <td>63.0</td>\n",
       "      <td>66.0</td>\n",
       "      <td>5.0</td>\n",
       "      <td>10.0</td>\n",
       "      <td>9.0</td>\n",
       "      <td>7.0</td>\n",
       "      <td>7.0</td>\n",
       "    </tr>\n",
       "  </tbody>\n",
       "</table>\n",
       "<p>5 rows × 42 columns</p>\n",
       "</div>"
      ],
      "text/plain": [
       "   id  player_fifa_api_id  player_api_id                 date  overall_rating  \\\n",
       "0   1              218353         505942  2016-02-18 00:00:00            67.0   \n",
       "1   2              218353         505942  2015-11-19 00:00:00            67.0   \n",
       "2   3              218353         505942  2015-09-21 00:00:00            62.0   \n",
       "3   4              218353         505942  2015-03-20 00:00:00            61.0   \n",
       "4   5              218353         505942  2007-02-22 00:00:00            61.0   \n",
       "\n",
       "   potential preferred_foot attacking_work_rate defensive_work_rate  crossing  \\\n",
       "0       71.0          right              medium              medium      49.0   \n",
       "1       71.0          right              medium              medium      49.0   \n",
       "2       66.0          right              medium              medium      49.0   \n",
       "3       65.0          right              medium              medium      48.0   \n",
       "4       65.0          right              medium              medium      48.0   \n",
       "\n",
       "   ...  vision  penalties  marking  standing_tackle  sliding_tackle  \\\n",
       "0  ...    54.0       48.0     65.0             69.0            69.0   \n",
       "1  ...    54.0       48.0     65.0             69.0            69.0   \n",
       "2  ...    54.0       48.0     65.0             66.0            69.0   \n",
       "3  ...    53.0       47.0     62.0             63.0            66.0   \n",
       "4  ...    53.0       47.0     62.0             63.0            66.0   \n",
       "\n",
       "   gk_diving  gk_handling  gk_kicking  gk_positioning  gk_reflexes  \n",
       "0        6.0         11.0        10.0             8.0          8.0  \n",
       "1        6.0         11.0        10.0             8.0          8.0  \n",
       "2        6.0         11.0        10.0             8.0          8.0  \n",
       "3        5.0         10.0         9.0             7.0          7.0  \n",
       "4        5.0         10.0         9.0             7.0          7.0  \n",
       "\n",
       "[5 rows x 42 columns]"
      ]
     },
     "execution_count": 4,
     "metadata": {},
     "output_type": "execute_result"
    }
   ],
   "source": [
    "df.head()"
   ]
  },
  {
   "cell_type": "code",
   "execution_count": 5,
   "metadata": {},
   "outputs": [
    {
     "data": {
      "text/plain": [
       "(183978, 42)"
      ]
     },
     "execution_count": 5,
     "metadata": {},
     "output_type": "execute_result"
    }
   ],
   "source": [
    "df.shape"
   ]
  },
  {
   "cell_type": "code",
   "execution_count": 6,
   "metadata": {},
   "outputs": [],
   "source": [
    "# checking null value \n",
    "missing_data = df.isnull().sum()\n",
    "dtypes = df.dtypes\n",
    "pct_missing = (missing_data/df.shape[0])*100\n",
    "\n",
    "About = pd.DataFrame([missing_data,pct_missing,dtypes]).T"
   ]
  },
  {
   "cell_type": "code",
   "execution_count": 7,
   "metadata": {},
   "outputs": [
    {
     "data": {
      "text/html": [
       "<div>\n",
       "<style scoped>\n",
       "    .dataframe tbody tr th:only-of-type {\n",
       "        vertical-align: middle;\n",
       "    }\n",
       "\n",
       "    .dataframe tbody tr th {\n",
       "        vertical-align: top;\n",
       "    }\n",
       "\n",
       "    .dataframe thead th {\n",
       "        text-align: right;\n",
       "    }\n",
       "</style>\n",
       "<table border=\"1\" class=\"dataframe\">\n",
       "  <thead>\n",
       "    <tr style=\"text-align: right;\">\n",
       "      <th></th>\n",
       "      <th>missing</th>\n",
       "      <th>pct_missing</th>\n",
       "      <th>dtype</th>\n",
       "    </tr>\n",
       "  </thead>\n",
       "  <tbody>\n",
       "    <tr>\n",
       "      <th>id</th>\n",
       "      <td>0</td>\n",
       "      <td>0</td>\n",
       "      <td>int64</td>\n",
       "    </tr>\n",
       "    <tr>\n",
       "      <th>player_fifa_api_id</th>\n",
       "      <td>0</td>\n",
       "      <td>0</td>\n",
       "      <td>int64</td>\n",
       "    </tr>\n",
       "    <tr>\n",
       "      <th>player_api_id</th>\n",
       "      <td>0</td>\n",
       "      <td>0</td>\n",
       "      <td>int64</td>\n",
       "    </tr>\n",
       "    <tr>\n",
       "      <th>date</th>\n",
       "      <td>0</td>\n",
       "      <td>0</td>\n",
       "      <td>object</td>\n",
       "    </tr>\n",
       "    <tr>\n",
       "      <th>overall_rating</th>\n",
       "      <td>836</td>\n",
       "      <td>0.454402</td>\n",
       "      <td>float64</td>\n",
       "    </tr>\n",
       "    <tr>\n",
       "      <th>potential</th>\n",
       "      <td>836</td>\n",
       "      <td>0.454402</td>\n",
       "      <td>float64</td>\n",
       "    </tr>\n",
       "    <tr>\n",
       "      <th>preferred_foot</th>\n",
       "      <td>836</td>\n",
       "      <td>0.454402</td>\n",
       "      <td>object</td>\n",
       "    </tr>\n",
       "    <tr>\n",
       "      <th>attacking_work_rate</th>\n",
       "      <td>3230</td>\n",
       "      <td>1.75564</td>\n",
       "      <td>object</td>\n",
       "    </tr>\n",
       "    <tr>\n",
       "      <th>defensive_work_rate</th>\n",
       "      <td>836</td>\n",
       "      <td>0.454402</td>\n",
       "      <td>object</td>\n",
       "    </tr>\n",
       "    <tr>\n",
       "      <th>crossing</th>\n",
       "      <td>836</td>\n",
       "      <td>0.454402</td>\n",
       "      <td>float64</td>\n",
       "    </tr>\n",
       "    <tr>\n",
       "      <th>finishing</th>\n",
       "      <td>836</td>\n",
       "      <td>0.454402</td>\n",
       "      <td>float64</td>\n",
       "    </tr>\n",
       "    <tr>\n",
       "      <th>heading_accuracy</th>\n",
       "      <td>836</td>\n",
       "      <td>0.454402</td>\n",
       "      <td>float64</td>\n",
       "    </tr>\n",
       "    <tr>\n",
       "      <th>short_passing</th>\n",
       "      <td>836</td>\n",
       "      <td>0.454402</td>\n",
       "      <td>float64</td>\n",
       "    </tr>\n",
       "    <tr>\n",
       "      <th>volleys</th>\n",
       "      <td>2713</td>\n",
       "      <td>1.47463</td>\n",
       "      <td>float64</td>\n",
       "    </tr>\n",
       "    <tr>\n",
       "      <th>dribbling</th>\n",
       "      <td>836</td>\n",
       "      <td>0.454402</td>\n",
       "      <td>float64</td>\n",
       "    </tr>\n",
       "    <tr>\n",
       "      <th>curve</th>\n",
       "      <td>2713</td>\n",
       "      <td>1.47463</td>\n",
       "      <td>float64</td>\n",
       "    </tr>\n",
       "    <tr>\n",
       "      <th>free_kick_accuracy</th>\n",
       "      <td>836</td>\n",
       "      <td>0.454402</td>\n",
       "      <td>float64</td>\n",
       "    </tr>\n",
       "    <tr>\n",
       "      <th>long_passing</th>\n",
       "      <td>836</td>\n",
       "      <td>0.454402</td>\n",
       "      <td>float64</td>\n",
       "    </tr>\n",
       "    <tr>\n",
       "      <th>ball_control</th>\n",
       "      <td>836</td>\n",
       "      <td>0.454402</td>\n",
       "      <td>float64</td>\n",
       "    </tr>\n",
       "    <tr>\n",
       "      <th>acceleration</th>\n",
       "      <td>836</td>\n",
       "      <td>0.454402</td>\n",
       "      <td>float64</td>\n",
       "    </tr>\n",
       "    <tr>\n",
       "      <th>sprint_speed</th>\n",
       "      <td>836</td>\n",
       "      <td>0.454402</td>\n",
       "      <td>float64</td>\n",
       "    </tr>\n",
       "    <tr>\n",
       "      <th>agility</th>\n",
       "      <td>2713</td>\n",
       "      <td>1.47463</td>\n",
       "      <td>float64</td>\n",
       "    </tr>\n",
       "    <tr>\n",
       "      <th>reactions</th>\n",
       "      <td>836</td>\n",
       "      <td>0.454402</td>\n",
       "      <td>float64</td>\n",
       "    </tr>\n",
       "    <tr>\n",
       "      <th>balance</th>\n",
       "      <td>2713</td>\n",
       "      <td>1.47463</td>\n",
       "      <td>float64</td>\n",
       "    </tr>\n",
       "    <tr>\n",
       "      <th>shot_power</th>\n",
       "      <td>836</td>\n",
       "      <td>0.454402</td>\n",
       "      <td>float64</td>\n",
       "    </tr>\n",
       "    <tr>\n",
       "      <th>jumping</th>\n",
       "      <td>2713</td>\n",
       "      <td>1.47463</td>\n",
       "      <td>float64</td>\n",
       "    </tr>\n",
       "    <tr>\n",
       "      <th>stamina</th>\n",
       "      <td>836</td>\n",
       "      <td>0.454402</td>\n",
       "      <td>float64</td>\n",
       "    </tr>\n",
       "    <tr>\n",
       "      <th>strength</th>\n",
       "      <td>836</td>\n",
       "      <td>0.454402</td>\n",
       "      <td>float64</td>\n",
       "    </tr>\n",
       "    <tr>\n",
       "      <th>long_shots</th>\n",
       "      <td>836</td>\n",
       "      <td>0.454402</td>\n",
       "      <td>float64</td>\n",
       "    </tr>\n",
       "    <tr>\n",
       "      <th>aggression</th>\n",
       "      <td>836</td>\n",
       "      <td>0.454402</td>\n",
       "      <td>float64</td>\n",
       "    </tr>\n",
       "    <tr>\n",
       "      <th>interceptions</th>\n",
       "      <td>836</td>\n",
       "      <td>0.454402</td>\n",
       "      <td>float64</td>\n",
       "    </tr>\n",
       "    <tr>\n",
       "      <th>positioning</th>\n",
       "      <td>836</td>\n",
       "      <td>0.454402</td>\n",
       "      <td>float64</td>\n",
       "    </tr>\n",
       "    <tr>\n",
       "      <th>vision</th>\n",
       "      <td>2713</td>\n",
       "      <td>1.47463</td>\n",
       "      <td>float64</td>\n",
       "    </tr>\n",
       "    <tr>\n",
       "      <th>penalties</th>\n",
       "      <td>836</td>\n",
       "      <td>0.454402</td>\n",
       "      <td>float64</td>\n",
       "    </tr>\n",
       "    <tr>\n",
       "      <th>marking</th>\n",
       "      <td>836</td>\n",
       "      <td>0.454402</td>\n",
       "      <td>float64</td>\n",
       "    </tr>\n",
       "    <tr>\n",
       "      <th>standing_tackle</th>\n",
       "      <td>836</td>\n",
       "      <td>0.454402</td>\n",
       "      <td>float64</td>\n",
       "    </tr>\n",
       "    <tr>\n",
       "      <th>sliding_tackle</th>\n",
       "      <td>2713</td>\n",
       "      <td>1.47463</td>\n",
       "      <td>float64</td>\n",
       "    </tr>\n",
       "    <tr>\n",
       "      <th>gk_diving</th>\n",
       "      <td>836</td>\n",
       "      <td>0.454402</td>\n",
       "      <td>float64</td>\n",
       "    </tr>\n",
       "    <tr>\n",
       "      <th>gk_handling</th>\n",
       "      <td>836</td>\n",
       "      <td>0.454402</td>\n",
       "      <td>float64</td>\n",
       "    </tr>\n",
       "    <tr>\n",
       "      <th>gk_kicking</th>\n",
       "      <td>836</td>\n",
       "      <td>0.454402</td>\n",
       "      <td>float64</td>\n",
       "    </tr>\n",
       "    <tr>\n",
       "      <th>gk_positioning</th>\n",
       "      <td>836</td>\n",
       "      <td>0.454402</td>\n",
       "      <td>float64</td>\n",
       "    </tr>\n",
       "    <tr>\n",
       "      <th>gk_reflexes</th>\n",
       "      <td>836</td>\n",
       "      <td>0.454402</td>\n",
       "      <td>float64</td>\n",
       "    </tr>\n",
       "  </tbody>\n",
       "</table>\n",
       "</div>"
      ],
      "text/plain": [
       "                    missing pct_missing    dtype\n",
       "id                        0           0    int64\n",
       "player_fifa_api_id        0           0    int64\n",
       "player_api_id             0           0    int64\n",
       "date                      0           0   object\n",
       "overall_rating          836    0.454402  float64\n",
       "potential               836    0.454402  float64\n",
       "preferred_foot          836    0.454402   object\n",
       "attacking_work_rate    3230     1.75564   object\n",
       "defensive_work_rate     836    0.454402   object\n",
       "crossing                836    0.454402  float64\n",
       "finishing               836    0.454402  float64\n",
       "heading_accuracy        836    0.454402  float64\n",
       "short_passing           836    0.454402  float64\n",
       "volleys                2713     1.47463  float64\n",
       "dribbling               836    0.454402  float64\n",
       "curve                  2713     1.47463  float64\n",
       "free_kick_accuracy      836    0.454402  float64\n",
       "long_passing            836    0.454402  float64\n",
       "ball_control            836    0.454402  float64\n",
       "acceleration            836    0.454402  float64\n",
       "sprint_speed            836    0.454402  float64\n",
       "agility                2713     1.47463  float64\n",
       "reactions               836    0.454402  float64\n",
       "balance                2713     1.47463  float64\n",
       "shot_power              836    0.454402  float64\n",
       "jumping                2713     1.47463  float64\n",
       "stamina                 836    0.454402  float64\n",
       "strength                836    0.454402  float64\n",
       "long_shots              836    0.454402  float64\n",
       "aggression              836    0.454402  float64\n",
       "interceptions           836    0.454402  float64\n",
       "positioning             836    0.454402  float64\n",
       "vision                 2713     1.47463  float64\n",
       "penalties               836    0.454402  float64\n",
       "marking                 836    0.454402  float64\n",
       "standing_tackle         836    0.454402  float64\n",
       "sliding_tackle         2713     1.47463  float64\n",
       "gk_diving               836    0.454402  float64\n",
       "gk_handling             836    0.454402  float64\n",
       "gk_kicking              836    0.454402  float64\n",
       "gk_positioning          836    0.454402  float64\n",
       "gk_reflexes             836    0.454402  float64"
      ]
     },
     "execution_count": 7,
     "metadata": {},
     "output_type": "execute_result"
    }
   ],
   "source": [
    "About.columns = [\"missing\" ,\"pct_missing\",\"dtype\"]\n",
    "\n",
    "About"
   ]
  },
  {
   "cell_type": "code",
   "execution_count": 8,
   "metadata": {},
   "outputs": [],
   "source": [
    "# imputing missing values\n",
    "df = df.apply(lambda x : x.fillna(x.mean()) if x.dtypes==\"int64\" else x.fillna(x.mode()[0]))"
   ]
  },
  {
   "cell_type": "code",
   "execution_count": 9,
   "metadata": {},
   "outputs": [
    {
     "data": {
      "text/plain": [
       "id                     0\n",
       "player_fifa_api_id     0\n",
       "player_api_id          0\n",
       "date                   0\n",
       "overall_rating         0\n",
       "potential              0\n",
       "preferred_foot         0\n",
       "attacking_work_rate    0\n",
       "defensive_work_rate    0\n",
       "crossing               0\n",
       "finishing              0\n",
       "heading_accuracy       0\n",
       "short_passing          0\n",
       "volleys                0\n",
       "dribbling              0\n",
       "curve                  0\n",
       "free_kick_accuracy     0\n",
       "long_passing           0\n",
       "ball_control           0\n",
       "acceleration           0\n",
       "sprint_speed           0\n",
       "agility                0\n",
       "reactions              0\n",
       "balance                0\n",
       "shot_power             0\n",
       "jumping                0\n",
       "stamina                0\n",
       "strength               0\n",
       "long_shots             0\n",
       "aggression             0\n",
       "interceptions          0\n",
       "positioning            0\n",
       "vision                 0\n",
       "penalties              0\n",
       "marking                0\n",
       "standing_tackle        0\n",
       "sliding_tackle         0\n",
       "gk_diving              0\n",
       "gk_handling            0\n",
       "gk_kicking             0\n",
       "gk_positioning         0\n",
       "gk_reflexes            0\n",
       "dtype: int64"
      ]
     },
     "execution_count": 9,
     "metadata": {},
     "output_type": "execute_result"
    }
   ],
   "source": [
    "df.isnull().sum()"
   ]
  },
  {
   "cell_type": "code",
   "execution_count": 10,
   "metadata": {},
   "outputs": [],
   "source": [
    "df[\"date\"] = pd.to_datetime(df.date)"
   ]
  },
  {
   "cell_type": "code",
   "execution_count": 11,
   "metadata": {},
   "outputs": [],
   "source": [
    "# EDA"
   ]
  },
  {
   "cell_type": "code",
   "execution_count": 12,
   "metadata": {},
   "outputs": [],
   "source": [
    "df[\"year_data\"] = df[\"date\"].dt.year"
   ]
  },
  {
   "cell_type": "code",
   "execution_count": 13,
   "metadata": {},
   "outputs": [
    {
     "data": {
      "image/png": "[encoded data removed]",
      "text/plain": [
       "<Figure size 1440x1440 with 42 Axes>"
      ]
     },
     "metadata": {},
     "output_type": "display_data"
    }
   ],
   "source": [
    "# check the distribution of data\n",
    "_=df.hist(figsize=(20,20))"
   ]
  },
  {
   "cell_type": "code",
   "execution_count": 14,
   "metadata": {},
   "outputs": [
    {
     "data": {
      "text/plain": [
       "Text(0.5, 1.0, 'yearwise overall rating')"
      ]
     },
     "execution_count": 14,
     "metadata": {},
     "output_type": "execute_result"
    },
    {
     "data": {
      "image/png": "[encoded data removed]",
      "text/plain": [
       "<Figure size 864x432 with 1 Axes>"
      ]
     },
     "metadata": {},
     "output_type": "display_data"
    }
   ],
   "source": [
    "_=sns.catplot(\"year_data\",\"overall_rating\", data = df,kind=\"bar\",height=6,aspect=2)\n",
    "plt.title(\"yearwise overall rating\")"
   ]
  },
  {
   "cell_type": "code",
   "execution_count": 15,
   "metadata": {},
   "outputs": [
    {
     "data": {
      "text/plain": [
       "Text(0.5, 1.0, 'foot by overall rating')"
      ]
     },
     "execution_count": 15,
     "metadata": {},
     "output_type": "execute_result"
    },
    {
     "data": {
      "image/png": "[encoded data removed]",
      "text/plain": [
       "<Figure size 864x432 with 1 Axes>"
      ]
     },
     "metadata": {},
     "output_type": "display_data"
    }
   ],
   "source": [
    "_=sns.catplot(\"preferred_foot\",\"overall_rating\", data = df,kind=\"box\",height=6,aspect=2)\n",
    "plt.title(\"foot by overall rating\")"
   ]
  },
  {
   "cell_type": "code",
   "execution_count": 16,
   "metadata": {},
   "outputs": [
    {
     "data": {
      "text/plain": [
       "Text(0.5, 1.0, 'attacking_work_rate by overall rating')"
      ]
     },
     "execution_count": 16,
     "metadata": {},
     "output_type": "execute_result"
    },
    {
     "data": {
      "image/png": "[encoded data removed]",
      "text/plain": [
       "<Figure size 864x432 with 1 Axes>"
      ]
     },
     "metadata": {},
     "output_type": "display_data"
    }
   ],
   "source": [
    "_=sns.catplot(\"attacking_work_rate\",\"overall_rating\", data = df,kind=\"box\",height=6,aspect=2)\n",
    "plt.title(\"attacking_work_rate by overall rating\")"
   ]
  },
  {
   "cell_type": "code",
   "execution_count": 17,
   "metadata": {},
   "outputs": [
    {
     "data": {
      "text/plain": [
       "Text(0.5, 1.0, 'defensive_work_rate by overall rating')"
      ]
     },
     "execution_count": 17,
     "metadata": {},
     "output_type": "execute_result"
    },
    {
     "data": {
      "image/png": "[encoded data removed]",
      "text/plain": [
       "<Figure size 864x432 with 1 Axes>"
      ]
     },
     "metadata": {},
     "output_type": "display_data"
    }
   ],
   "source": [
    "_=sns.catplot(\"defensive_work_rate\",\"overall_rating\", data = df,kind=\"box\",height=6,aspect=2)\n",
    "plt.title(\"defensive_work_rate by overall rating\")"
   ]
  },
  {
   "cell_type": "code",
   "execution_count": null,
   "metadata": {},
   "outputs": [],
   "source": []
  },
  {
   "cell_type": "markdown",
   "metadata": {},
   "source": [
    "FEATURE ENGINEERING"
   ]
  },
  {
   "cell_type": "code",
   "execution_count": 18,
   "metadata": {},
   "outputs": [],
   "source": [
    "df.drop([\"id\",\"player_fifa_api_id\",\"player_api_id\",\"date\",\"year_data\"],axis=1,inplace=True)"
   ]
  },
  {
   "cell_type": "code",
   "execution_count": 19,
   "metadata": {},
   "outputs": [
    {
     "name": "stdout",
     "output_type": "stream",
     "text": [
      "[67. 62. 61. 74. 73. 71. 70. 69. 68. 65. 64. 54. 51. 52. 47. 53. 66. 59.\n",
      " 75. 72. 76. 78. 77. 79. 60. 80. 81. 82. 84. 48. 63. 83. 55. 58. 50. 56.\n",
      " 49. 57. 42. 46. 45. 85. 44. 86. 89. 87. 88. 91. 40. 90. 41. 43. 38. 93.\n",
      " 92. 39. 33. 36. 37. 35. 94.] overall_rating \n",
      "\n",
      "\n",
      "[71. 66. 65. 76. 75. 77. 78. 79. 80. 68. 64. 60. 67. 70. 72. 69. 82. 73.\n",
      " 74. 81. 83. 86. 84. 85. 87. 90. 56. 57. 63. 62. 61. 59. 55. 58. 53. 89.\n",
      " 54. 88. 52. 91. 92. 93. 51. 46. 44. 50. 47. 45. 95. 94. 48. 49. 42. 97.\n",
      " 96. 39.] potential \n",
      "\n",
      "\n",
      "['right' 'left'] preferred_foot \n",
      "\n",
      "\n",
      "['medium' 'high' 'low' 'None' 'le' 'norm' 'stoc' 'y'] attacking_work_rate \n",
      "\n",
      "\n",
      "['medium' 'high' 'low' '_0' '5' 'ean' 'o' '1' 'ormal' '7' '2' '8' '4'\n",
      " 'tocky' '0' '3' '6' '9' 'es'] defensive_work_rate \n",
      "\n",
      "\n",
      "[49. 48. 80. 79. 78. 77. 74. 58. 57. 22. 64. 65. 67. 69. 72. 73. 63. 56.\n",
      " 59. 60. 46. 45. 75. 76. 47. 82. 71. 12. 62. 26. 70. 66. 40. 53. 55. 54.\n",
      " 61. 39. 41. 42. 52. 68. 35. 34. 50. 38. 84. 81. 25. 11.  6. 23. 29. 36.\n",
      " 44. 43. 51. 32. 33. 15. 14.  9. 21. 28. 20. 37. 19. 18. 83.  8. 31. 24.\n",
      " 92. 10. 30. 27. 86. 90. 88. 13. 17. 85. 87. 16. 91. 93.  3. 89.  7.  5.\n",
      "  4. 94. 95.  2.  1.] crossing \n",
      "\n",
      "\n",
      "[44. 43. 53. 52. 51. 50. 40. 39. 48. 58. 56. 61. 69. 21. 20. 34. 33. 57.\n",
      " 72. 73. 74. 71. 77. 79. 32. 31. 66. 65. 67. 68. 70. 62. 64. 15. 42. 41.\n",
      " 45. 63. 54. 23. 75. 76. 26. 25. 55. 29. 17. 16. 22. 60. 37. 30. 49. 47.\n",
      " 46. 38. 28. 27. 80. 78. 11. 10. 18. 59. 36. 82. 13.  9.  5.  8. 35. 14.\n",
      " 24. 81. 88. 92. 83. 84. 86. 90. 89. 93. 85. 19.  6.  3. 12.  4. 87. 91.\n",
      "  7.  2.  1. 95. 94. 97. 96.] finishing \n",
      "\n",
      "\n",
      "[71. 70. 58. 57. 56. 51. 50. 52. 60. 59. 62. 45. 68. 67. 73. 74. 79. 72.\n",
      " 76. 64. 65. 66. 47. 46. 28. 27. 38. 49. 16. 61. 82. 42. 54. 53. 63. 55.\n",
      " 43. 78. 77. 75. 48. 69. 39. 30. 80. 81. 84. 13. 25. 12. 23. 41. 44. 37.\n",
      " 32. 90. 40. 11. 10. 21. 35. 24. 18. 17. 33. 31. 26. 36. 85. 86. 87. 83.\n",
      " 22. 19. 34. 88. 89. 15.  8. 92. 20. 14.  4. 91.  9.  3. 93. 29.  6.  7.\n",
      " 95.  5.  1. 94.  2. 98.] heading_accuracy \n",
      "\n",
      "\n",
      "[61. 60. 71. 70. 69. 67. 64. 62. 59. 45. 44. 39. 66. 68. 63. 65. 53. 72.\n",
      " 54. 79. 80. 75. 77. 78. 76. 23. 73. 84. 74. 58. 57. 52. 42. 83. 82. 85.\n",
      " 55. 56. 40. 51. 49. 43. 47. 48. 34. 33. 41. 35. 81. 46. 25. 38. 16. 15.\n",
      " 21. 26. 32. 28. 27. 50. 36. 37. 20. 30.  9. 13. 11. 10.  8. 29. 22. 12.\n",
      " 86. 87. 89. 18. 19. 88. 31. 90. 92. 24.  3. 93. 91. 94. 95. 97. 14. 17.\n",
      " 96.  7.  6.  5.  4.] short_passing \n",
      "\n",
      "\n",
      "[44. 43. 40. 32. 29. 28. 30. 52. 51. 56. 63. 48. 47. 33. 77. 80. 34. 68.\n",
      " 67. 69. 14. 60. 59. 65. 64. 57. 25. 61. 79. 81. 78. 76. 74. 73. 70. 42.\n",
      " 41. 24. 55. 62. 36. 23. 72. 58. 31. 66. 37. 46. 45. 49. 13. 39. 50. 53.\n",
      " 54. 35. 75. 71. 10. 11.  5. 22. 21. 16. 38. 15. 27. 26. 12. 20.  6. 18.\n",
      " 17.  9. 19. 82. 84. 83. 87. 86. 85.  4.  8.  7.  2. 88. 89.  3. 90. 91.\n",
      "  1. 93. 92.] volleys \n",
      "\n",
      "\n",
      "[51. 50. 73. 71. 67. 66. 65. 64. 62. 44. 43. 26. 69. 70. 72. 74. 56. 55.\n",
      " 59. 60. 52. 47. 46. 48. 53. 63. 78. 80. 79. 81. 82. 77. 54. 84. 83. 85.\n",
      " 90. 88. 93. 94. 86. 15. 57. 75. 76. 68. 61. 49. 42. 45. 30. 41. 21. 58.\n",
      " 36. 35. 34. 31. 25. 14.  9. 23. 40. 28. 38. 37. 11. 10.  5. 20. 32. 19.\n",
      " 18. 87. 33. 12. 89. 39. 16. 27. 22. 92. 13.  7.  8. 29.  1.  6. 91. 17.\n",
      " 24. 95.  4. 97.  3. 96.  2.] dribbling \n",
      "\n",
      "\n",
      "[45. 44. 70. 68. 67. 66. 65. 63. 64. 41. 71. 72. 43. 38. 37. 42. 52. 77.\n",
      " 78. 79. 56. 55. 62. 14. 69. 73. 59. 57. 58. 21. 51. 35. 76. 75. 27. 23.\n",
      " 22. 25. 46. 40. 26. 54. 49. 36. 53. 15. 28. 29. 30. 39. 31. 47. 48. 50.\n",
      " 33. 32. 61. 60. 80. 83. 81. 12. 18. 17. 34. 74. 20. 84. 82. 86. 85. 13.\n",
      "  9. 11.  8.  6. 87. 19. 10.  5.  2.  7. 90. 88. 16. 24. 92. 94. 91. 89.\n",
      "  4. 93.] curve \n",
      "\n",
      "\n",
      "[39. 38. 69. 68. 43. 42. 26. 63. 62. 64. 41. 40. 25. 24. 81. 76. 74. 73.\n",
      " 70. 57. 48. 53. 55. 54. 66. 18. 67. 65. 78. 71. 59. 61. 60. 58. 30. 50.\n",
      " 77. 45. 23. 22. 47. 44. 32. 31. 49. 29. 52. 56. 28. 72. 14. 13.  9. 75.\n",
      " 51. 33. 34. 79. 37. 83. 46. 80. 35. 12. 11. 27. 86. 36. 21. 20. 16. 15.\n",
      " 82. 91. 87. 88. 84. 17. 19. 89.  6.  8. 85.  7. 10. 90. 93. 95. 96. 92.\n",
      "  5. 94.  3.  4. 97.  2.  1.] free_kick_accuracy \n",
      "\n",
      "\n",
      "[64. 63. 68. 67. 65. 46. 45. 49. 62. 61. 53. 57. 58. 54. 60. 55. 70. 48.\n",
      " 59. 18. 69. 72. 73. 79. 77. 74. 71. 66. 56. 80. 81. 82. 83. 75. 52. 51.\n",
      " 47. 39. 38. 33. 42. 27. 76. 35. 44. 43. 32. 41. 25. 24. 84. 78. 31. 29.\n",
      " 40. 36. 12. 11. 30. 34. 37. 15. 26. 21. 50. 23. 20. 17. 28. 22.  8. 14.\n",
      " 13. 85. 86. 87. 16. 19.  7. 90. 92. 94. 95. 96. 97. 89. 88. 10.  5. 91.\n",
      "  6.  9. 93.  4.  3.] long_passing \n",
      "\n",
      "\n",
      "[49. 48. 71. 70. 68. 67. 66. 65. 64. 43. 42. 34. 73. 72. 74. 54. 62. 61.\n",
      " 69. 58. 57. 59. 63. 79. 78. 76. 75. 77. 81. 80. 82. 84. 88. 83. 22. 60.\n",
      " 52. 51. 44. 35. 46. 47. 53. 55. 50. 17. 28. 56. 85. 18. 25. 21. 19. 24.\n",
      " 27. 26. 86. 87. 45. 30. 32. 89. 40. 36. 37. 92. 23. 31. 39. 29. 38. 41.\n",
      " 13. 14. 10. 20. 15. 11. 91. 90. 94. 33. 16. 12. 93. 95.  6.  9. 96.  7.\n",
      " 97.  8.  5.] ball_control \n",
      "\n",
      "\n",
      "[60. 79. 80. 84. 85. 69. 43. 42. 66. 77. 81. 78. 82. 74. 76. 68. 71. 65.\n",
      " 33. 37. 50. 55. 75. 73. 49. 54. 52. 53. 70. 72. 89. 90. 92. 94. 96. 93.\n",
      " 95. 15. 63. 67. 64. 51. 34. 61. 56. 83. 62. 57. 59. 86. 48. 40. 31. 26.\n",
      " 36. 47. 87. 88. 44. 58. 91. 41. 35. 46. 39. 32. 25. 45. 29. 30. 18. 21.\n",
      " 20. 28. 23. 27. 24. 38. 22. 13. 97. 14. 17. 10. 16. 19.] acceleration \n",
      "\n",
      "\n",
      "[64. 78. 82. 81. 72. 47. 46. 59. 74. 75. 80. 79. 77. 34. 37. 40. 48. 55.\n",
      " 57. 61. 73. 31. 53. 54. 71. 69. 67. 89. 91. 95. 93. 94. 92. 90. 26. 65.\n",
      " 66. 68. 76. 63. 60. 85. 58. 70. 84. 62. 49. 88. 83. 87. 86. 56. 52. 32.\n",
      " 33. 38. 50. 42. 39. 45. 43. 51. 44. 41. 21. 30. 23. 29. 24. 35. 36. 28.\n",
      " 27. 22. 20. 25. 19. 96. 97. 15. 17. 12. 14. 16. 13.] sprint_speed \n",
      "\n",
      "\n",
      "[59. 78. 79. 81. 77. 74. 85. 76. 66. 62. 63. 41. 45. 49. 57. 60. 93. 94.\n",
      " 88. 31. 69. 72. 67. 55. 71. 68. 82. 75. 70. 73. 44. 48. 33. 36. 80. 86.\n",
      " 65. 50. 51. 56. 46. 47. 83. 34. 53. 87. 58. 32. 42. 52. 35. 91. 90. 64.\n",
      " 84. 54. 61. 43. 40. 38. 39. 92. 37. 22. 89. 28. 25. 26. 95. 23. 30. 21.\n",
      " 29. 16. 24. 27. 15. 19. 96. 11. 20.] agility \n",
      "\n",
      "\n",
      "[47. 46. 67. 71. 69. 70. 66. 62. 61. 65. 51. 50. 57. 56. 64. 68. 80. 77.\n",
      " 79. 81. 78. 74. 76. 75. 73. 60. 84. 45. 72. 58. 52. 82. 53. 63. 55. 42.\n",
      " 59. 54. 41. 48. 49. 83. 39. 35. 33. 44. 43. 24. 37. 38. 90. 85. 88. 32.\n",
      " 40. 22. 23. 36. 87. 86. 89. 34. 26. 31. 29. 92. 91. 27. 30. 96. 28. 21.\n",
      " 93. 95. 94. 25. 20. 17.] reactions \n",
      "\n",
      "\n",
      "[65. 90. 87. 62. 92. 84. 56. 41. 44. 45. 52. 59. 66. 76. 72. 73. 67. 80.\n",
      " 94. 24. 79. 77. 71. 64. 53. 82. 75. 74. 70. 68. 60. 61. 54. 49. 78. 57.\n",
      " 63. 58. 69. 25. 31. 50. 43. 81. 55. 47. 51. 38. 83. 88. 86. 48. 85. 40.\n",
      " 30. 37. 36. 28. 33. 42. 29. 32. 34. 39. 91. 35. 27. 95. 93. 89. 46. 17.\n",
      " 23. 21. 22. 20. 26. 96. 15. 18. 12.] balance \n",
      "\n",
      "\n",
      "[55. 54. 71. 70. 65. 48. 47. 61. 60. 56. 62. 67. 74. 64. 59. 68. 76. 78.\n",
      " 77. 73. 53. 52. 69. 72. 26. 66. 63. 37. 81. 75. 58. 50. 57. 42. 82. 41.\n",
      " 40. 46. 49. 19. 34. 45. 51. 43. 33. 32. 39. 88. 85. 84. 83. 20. 80. 79.\n",
      " 16. 35. 23. 44. 17. 25. 21. 36. 27. 86. 30. 24. 12. 31. 29. 87. 90. 89.\n",
      " 93. 94. 96. 38. 28. 22. 14. 11. 18. 91. 13. 15.  6. 10.  8. 92.  9. 95.\n",
      "  5.  4.  7.  2. 97.  3.] shot_power \n",
      "\n",
      "\n",
      "[58. 85. 84. 77. 73. 64. 48. 65. 71. 56. 70. 69. 67. 78. 83. 81. 52. 38.\n",
      " 63. 75. 72. 62. 66. 61. 68. 79. 46. 60. 54. 74. 57. 43. 76. 51. 55. 33.\n",
      " 50. 53. 80. 59. 90. 88. 87. 49. 82. 47. 86. 35. 37. 89. 34. 44. 91. 42.\n",
      " 45. 39. 94. 41. 92. 93. 30. 40. 36. 32. 14. 31. 25. 96. 95. 24. 27. 26.\n",
      " 29. 28. 19. 20. 21. 23. 22.] jumping \n",
      "\n",
      "\n",
      "[54. 79. 80. 77. 76. 74. 73. 63. 59. 55. 56. 66. 72. 81. 68. 69. 49. 39.\n",
      " 48. 75. 60. 62. 78. 85. 84. 86. 87. 18. 67. 70. 83. 61. 53. 92. 93. 90.\n",
      " 58. 64. 65. 50. 47. 71. 88. 57. 45. 52. 42. 43. 46. 82. 31. 37. 89. 35.\n",
      " 36. 34. 51. 33. 40. 21. 27. 41. 44. 91. 28. 22. 38. 30. 32. 29. 25. 19.\n",
      " 24. 14. 94. 26. 23. 95. 16. 20. 96. 15. 17. 10.] stamina \n",
      "\n",
      "\n",
      "[76. 56. 50. 49. 48. 43. 37. 38. 63. 68. 71. 90. 87. 86. 81. 78. 77. 75.\n",
      " 72. 70. 74. 69. 65. 66. 62. 59. 52. 57. 41. 33. 44. 73. 51. 30. 64. 61.\n",
      " 82. 47. 60. 45. 67. 40. 79. 55. 58. 83. 53. 46. 95. 39. 42. 88. 84. 85.\n",
      " 89. 91. 54. 80. 31. 92. 94. 22. 21. 35. 93. 32. 27. 34. 36. 29. 28. 25.\n",
      " 26. 20. 23. 24. 96. 18. 16. 12. 13. 10.] strength \n",
      "\n",
      "\n",
      "[35. 34. 62. 60. 59. 58. 56. 55. 54. 53. 57. 51. 52. 61. 76. 67. 63. 29.\n",
      " 28. 33. 26. 25. 20. 15. 75. 77. 78. 73. 72. 68. 38. 37. 12. 66. 24. 74.\n",
      " 79. 70. 30. 23. 47. 46. 43. 48. 71. 39. 69. 50. 44. 27. 65. 64. 11. 49.\n",
      " 41. 31. 32. 42. 45. 22. 40. 18. 14. 13.  8. 21. 19. 81. 80. 82. 16. 84.\n",
      " 10. 83. 85. 88. 90.  6.  9. 86. 91.  5.  3.  4. 36. 87. 93. 17. 89.  7.\n",
      " 92.  1. 94. 95.  2. 96.] long_shots \n",
      "\n",
      "\n",
      "[71. 63. 62. 68. 67. 66. 64. 60. 59. 70. 69. 72. 65. 77. 75. 76. 57. 55.\n",
      " 51. 49. 36. 74. 56. 37. 46. 24. 21. 73. 78. 30. 45. 44. 43. 53. 54. 41.\n",
      " 58. 48. 39. 38. 85. 84. 61. 52. 40. 80. 79. 83. 81. 87. 91. 89. 90. 93.\n",
      " 86. 50. 31. 18. 25. 17. 23. 82. 88. 47. 26. 33. 32. 34. 35. 20. 19. 42.\n",
      " 22. 29. 10. 27. 28. 16. 94. 12. 14. 92. 15. 11. 13.  8. 97. 96.  6. 95.\n",
      "  9.] aggression \n",
      "\n",
      "\n",
      "[70. 41. 40. 67. 66. 65. 62. 59. 31. 32. 55. 54. 44. 35. 61. 68. 71. 77.\n",
      " 80. 81. 83. 74. 56. 57. 37. 36. 60. 73. 19. 64. 63. 58. 45. 43. 39. 69.\n",
      " 72. 82. 30. 29. 24. 23. 51. 49. 48. 21. 27. 20. 25. 33. 28. 47. 50. 79.\n",
      " 52. 26. 76. 75. 42. 46. 84. 53. 12. 78. 34. 13. 38. 22. 15. 16. 10. 18.\n",
      " 85. 11. 14. 17. 87.  7. 88. 93. 86. 92. 90.  9. 91.  8. 89. 95. 96. 94.\n",
      "  6.  2.  5.  1.  3.  4.] interceptions \n",
      "\n",
      "\n",
      "[45. 44. 60. 58. 57. 56. 19. 27. 28. 64. 67. 68. 66. 62. 50. 30. 26. 25.\n",
      " 78. 81. 29. 76. 77. 71. 74. 75. 73. 39. 79. 69. 14. 65. 63. 55. 21. 70.\n",
      " 41. 83. 84. 82. 80. 61. 52. 51. 49. 48. 72. 38. 23. 47. 53. 36. 17. 46.\n",
      " 31. 54. 24. 22. 20. 11. 10. 18. 42. 35. 32. 59. 40. 85. 37. 33. 43. 13.\n",
      " 12. 16. 15. 34. 87. 88.  4.  3. 89. 91. 95. 86. 90. 93.  5.  8.  9.  6.\n",
      " 94.  2. 92.  7. 96.] positioning \n",
      "\n",
      "\n",
      "[54. 53. 66. 65. 64. 61. 58. 63. 47. 38. 68. 71. 72. 73. 67. 41. 40. 60.\n",
      " 76. 80. 82. 79. 83. 75. 77. 81. 15. 70. 62. 78. 31. 55. 50. 49. 44. 36.\n",
      " 43. 74. 52. 51. 46. 33. 32. 69. 30. 57. 42. 56. 39. 35. 24. 25. 59. 45.\n",
      " 34. 29. 48. 21. 18. 17. 20. 23. 16. 27. 26. 22. 28. 85. 87. 37. 14. 10.\n",
      " 84. 12.  9. 13. 86.  2. 89. 90.  7.  5.  6. 19.  8. 94. 95. 96. 92. 11.\n",
      " 93. 88. 91.  4.  1.  3. 97.] vision \n",
      "\n",
      "\n",
      "[48. 47. 59. 58. 35. 28. 29. 61. 60. 63. 64. 66. 36. 37. 45. 44. 81. 82.\n",
      " 76. 72. 68. 67. 73. 53. 42. 41. 62. 84. 70. 74. 56. 55. 52. 34. 69. 65.\n",
      " 75. 71. 79. 54. 40. 39. 50. 85. 80. 32. 31. 22. 46. 57. 49. 43. 51. 77.\n",
      " 38. 20. 25. 33. 83. 21. 78. 18. 17. 27. 86. 30. 12. 88. 94.  7. 16. 19.\n",
      " 26. 23. 15. 93. 24. 91. 90. 92. 14.  9. 11. 13.  6. 87. 95. 10. 89.  8.\n",
      "  5.  3.  2. 96.] penalties \n",
      "\n",
      "\n",
      "[65. 62. 76. 73. 72. 66. 64. 53. 52. 23. 22. 21. 67. 78. 80. 77. 75. 74.\n",
      " 81. 79. 82. 69. 28. 36. 30. 51. 29. 25. 18. 15. 63. 58. 60. 68. 56. 54.\n",
      " 59. 57. 35. 34. 46. 43. 42. 61. 32. 26. 70. 13. 20. 47. 45. 83. 55. 19.\n",
      " 44. 38. 17. 71. 48. 37. 39. 24. 14. 33. 49. 50. 12.  9. 31. 40. 27. 16.\n",
      "  5. 84. 85. 10. 41. 11.  7.  6.  1. 88. 86. 87. 94. 93.  8.  4. 90. 89.\n",
      " 91. 92.  3.  2. 96.] marking \n",
      "\n",
      "\n",
      "[69. 66. 63. 75. 72. 68. 64. 60. 59. 45. 22. 21. 71. 76. 78. 74. 70. 73.\n",
      " 79. 80. 83. 34. 37. 30. 27. 25. 58. 56. 33. 23. 29. 15. 65. 62. 61. 54.\n",
      " 20. 31. 24. 77. 67. 53. 47. 46. 19. 26. 42. 41. 32. 36. 51. 50. 57. 39.\n",
      " 55. 14. 13. 44. 43. 35. 81. 48. 52. 28. 17. 16. 84. 82. 11. 10. 40. 18.\n",
      "  9. 12. 86. 85. 87. 88. 49.  8. 38.  2. 89. 90. 93. 95.  7. 91.  5. 92.\n",
      "  6.  4.  3. 94.  1.] standing_tackle \n",
      "\n",
      "\n",
      "[69. 66. 78. 72. 67. 63. 24. 21. 68. 65. 70. 71. 74. 75. 76. 77. 35. 32.\n",
      " 29. 57. 56. 34. 25. 14. 12. 61. 60. 62. 73. 51. 44. 43. 17. 54. 52. 37.\n",
      " 36. 45. 64. 59. 19. 18. 23. 33. 31. 38. 22. 30. 40. 53. 42. 55. 27. 13.\n",
      " 82. 84. 79. 58. 46. 15. 11. 20. 41. 81. 47. 49. 26. 16. 50. 48. 39. 80.\n",
      " 28. 10.  9. 83. 85.  6.  5.  7.  2.  4. 89. 90. 86. 87.  8. 88. 92.  3.\n",
      " 91. 93. 94. 95.] sliding_tackle \n",
      "\n",
      "\n",
      "[ 6.  5. 14. 13. 16. 15.  8.  7. 12.  9. 53. 11. 10. 24. 33.  2.  4. 70.\n",
      " 66. 65. 58.  3. 60. 51. 46. 77. 73. 75. 72. 63. 55. 69. 68. 64. 67. 74.\n",
      " 71.  1. 80. 79. 78. 56. 61. 62. 49. 76. 59. 57. 20. 81. 22. 21. 31. 54.\n",
      " 88. 83. 82. 48. 84. 18. 35. 90. 85. 86. 45. 19. 87. 17. 43. 44. 28. 23.\n",
      " 52. 39. 47. 91. 93. 50. 26. 34. 32. 92. 89. 25. 94. 41. 40. 42. 29. 27.\n",
      " 30. 36. 37.] gk_diving \n",
      "\n",
      "\n",
      "[11. 10.  7.  6. 22. 21. 12.  5. 20.  9. 13. 25.  8. 41. 15. 14. 23. 30.\n",
      " 24. 16. 63. 62. 59.  4.  3.  2. 61. 49. 44. 71. 66. 72. 67. 56. 46. 60.\n",
      " 58. 65. 69. 68. 48.  1. 75. 76. 79. 82. 70. 74. 73. 64. 55. 57. 53. 51.\n",
      " 78. 77. 52. 19. 45. 43. 26. 54. 50. 32. 81. 83. 42. 29. 80. 84. 17. 47.\n",
      " 86. 88. 18. 28. 87. 85. 91. 35. 92. 93. 90. 37. 27. 33. 89. 39. 36. 40.] gk_handling \n",
      "\n",
      "\n",
      "[10.  9.  8. 45. 46. 49. 12. 11. 54. 13. 64. 65. 61. 58. 16. 15. 57. 55.\n",
      "  7.  6. 63. 48. 14. 59. 39. 73.  5. 79. 75. 72. 67. 21. 38. 33. 47. 52.\n",
      " 42. 62. 27. 71. 76. 35. 53. 43. 51. 69. 44. 60. 66.  3.  2. 56. 70. 78.\n",
      " 68. 31. 29. 74. 20. 41. 82. 81. 84. 23.  4. 36. 32. 50. 28. 25. 83. 86.\n",
      " 37. 77. 30. 80. 34. 24. 40. 26.  1. 95. 96. 97. 89. 90. 88. 18. 91. 22.\n",
      " 19. 87. 85. 94. 92. 93. 17.] gk_kicking \n",
      "\n",
      "\n",
      "[ 8.  7.  9. 22. 21. 12. 11. 20. 10. 16. 15.  6. 14. 13. 25. 51. 31. 24.\n",
      " 23. 70. 65. 64. 39.  5.  3.  2. 19. 18. 62. 58. 63. 71. 72. 68. 60. 50.\n",
      " 57. 53. 54. 59. 69. 67. 66.  4. 75. 76. 74. 61. 55. 56. 79. 78. 77. 82.\n",
      " 81. 73. 52. 30. 80. 47. 32. 49. 43. 48. 84. 42.  1. 44. 83. 17. 86. 85.\n",
      " 87. 88. 45. 28. 46. 92. 38. 93. 91. 90. 94. 34. 41. 89. 96. 35. 27. 37.\n",
      " 29. 33. 26. 36.] gk_positioning \n",
      "\n",
      "\n",
      "[ 8.  7. 12. 11. 22. 13. 21. 10. 20.  6. 15. 14.  9. 25. 53. 30.  5. 24.\n",
      " 23.  4. 16. 75. 74.  3.  2. 64. 60. 58. 55. 78. 76. 73. 72. 68. 54. 69.\n",
      " 63. 62. 66. 56. 80. 86. 85. 84. 81. 79. 52. 70. 18. 67. 71. 65. 59. 61.\n",
      " 57. 83. 77. 82. 38. 17.  1. 48. 33. 50. 49. 45. 89. 88. 51. 87. 43. 47.\n",
      " 46. 27. 37. 92. 90. 41. 19. 29. 44. 42. 91. 35. 26. 40. 93. 94. 96. 32.\n",
      " 34. 31.] gk_reflexes \n",
      "\n",
      "\n"
     ]
    }
   ],
   "source": [
    "# checking the unique values in features\n",
    "for i in df.columns:\n",
    "    unique = df[i].unique()\n",
    "    print(unique,i,\"\\n\\n\")"
   ]
  },
  {
   "cell_type": "code",
   "execution_count": 20,
   "metadata": {},
   "outputs": [],
   "source": [
    "# labelling the ordinal features\n",
    "\n",
    "label = LabelEncoder()\n",
    "df[\"attacking_work_rate\"] = label.fit_transform(df[\"attacking_work_rate\"])\n",
    "df[\"defensive_work_rate\"] = label.fit_transform(df[\"defensive_work_rate\"])\n",
    "\n",
    "\n",
    "# create dummy variable\n",
    "df[\"preferred_foot\"] = df[\"preferred_foot\"].map({\"right\":1,\"left\":0})"
   ]
  },
  {
   "cell_type": "code",
   "execution_count": 21,
   "metadata": {},
   "outputs": [],
   "source": [
    "x = df.drop([\"overall_rating\"],axis=1)\n",
    "y = df[\"overall_rating\"]"
   ]
  },
  {
   "cell_type": "code",
   "execution_count": 22,
   "metadata": {},
   "outputs": [],
   "source": [
    "# In the dataset all the features in the different scale so we need to feature scalling\n",
    "\n",
    "scaler = StandardScaler()\n",
    "x_scaled = scaler.fit_transform(x)"
   ]
  },
  {
   "cell_type": "code",
   "execution_count": 23,
   "metadata": {},
   "outputs": [],
   "source": [
    "# split the dataset\n",
    "\n",
    "xtrain,xtest,ytrain,ytest = train_test_split(x_scaled,y,random_state=11)"
   ]
  },
  {
   "cell_type": "code",
   "execution_count": 24,
   "metadata": {},
   "outputs": [
    {
     "name": "stdout",
     "output_type": "stream",
     "text": [
      "(137983, 37)\n",
      "(137983,)\n",
      "(45995, 37)\n",
      "(45995,)\n"
     ]
    }
   ],
   "source": [
    "print(xtrain.shape)\n",
    "print(ytrain.shape)\n",
    "print(xtest.shape)\n",
    "print(ytest.shape)"
   ]
  },
  {
   "cell_type": "code",
   "execution_count": 25,
   "metadata": {},
   "outputs": [],
   "source": [
    "class model_building:\n",
    "    def __init__(self,xtrain,ytrain,xtest,ytest):\n",
    "        self.xtrain = xtrain\n",
    "        self.ytrain = ytrain\n",
    "        self.xtest = xtest\n",
    "        self.ytest = ytest\n",
    "    \n",
    "    def single_train_test(self,model):\n",
    "        self.model = model\n",
    "        lr = self.model\n",
    "        lr.fit(self.xtrain,self.ytrain)\n",
    "        train_score = lr.score(self.xtrain,self.ytrain)\n",
    "        test_score = lr.score(self.xtest,self.ytest)\n",
    "        return (\"train score\",train_score,\"test score\",test_score)\n",
    "    \n",
    "    \n",
    "    \n",
    "class cross_validation:\n",
    "    def __init__(self,x,y):\n",
    "        self.x = x\n",
    "        self.y = y\n",
    "    def cv_score(self,model):\n",
    "        self.crossmodel = model\n",
    "        score = cross_val_score(self.crossmodel,self.x,self.y,n_jobs=-1,verbose=3)\n",
    "        return (np.mean(score))\n",
    "\n",
    "class Client:\n",
    "    def __init__(self):\n",
    "        self.modelbuiding_obj = model_building(xtrain,ytrain,xtest,ytest)\n",
    "        self.cross_validation_obj = cross_validation(x_scaled,y)\n",
    "\n",
    "        \n",
    "        \n",
    "model_list = [LinearRegression(),Ridge(),Lasso(),ElasticNet(),DecisionTreeRegressor(),RandomForestRegressor(),AdaBoostRegressor(),GradientBoostingRegressor(),XGBRegressor()]"
   ]
  },
  {
   "cell_type": "code",
   "execution_count": 26,
   "metadata": {},
   "outputs": [],
   "source": [
    "api = Client()"
   ]
  },
  {
   "cell_type": "code",
   "execution_count": 27,
   "metadata": {},
   "outputs": [
    {
     "name": "stderr",
     "output_type": "stream",
     "text": [
      "[Parallel(n_jobs=-1)]: Using backend LokyBackend with 8 concurrent workers.\n",
      "[Parallel(n_jobs=-1)]: Done   2 out of   5 | elapsed:    4.0s remaining:    6.0s\n",
      "[Parallel(n_jobs=-1)]: Done   5 out of   5 | elapsed:    4.1s finished\n"
     ]
    },
    {
     "name": "stdout",
     "output_type": "stream",
     "text": [
      "('train score', 0.8423494795874035, 'test score', 0.8383173766352834) \n",
      " cv_score 0.8404450605020688\n"
     ]
    }
   ],
   "source": [
    "# Linear Regression\n",
    "single_train_test = api.modelbuiding_obj.single_train_test(LinearRegression())\n",
    "cv = api.cross_validation_obj.cv_score(LinearRegression())\n",
    "print(single_train_test,\"\\n\",\"cv_score\",cv)"
   ]
  },
  {
   "cell_type": "code",
   "execution_count": 28,
   "metadata": {},
   "outputs": [
    {
     "name": "stderr",
     "output_type": "stream",
     "text": [
      "[Parallel(n_jobs=-1)]: Using backend LokyBackend with 8 concurrent workers.\n",
      "[Parallel(n_jobs=-1)]: Done   2 out of   5 | elapsed:    0.3s remaining:    0.6s\n",
      "[Parallel(n_jobs=-1)]: Done   5 out of   5 | elapsed:    1.8s finished\n"
     ]
    },
    {
     "name": "stdout",
     "output_type": "stream",
     "text": [
      "('train score', 0.8423494794338886, 'test score', 0.8383174628620228) \n",
      " cv_score 0.8404450981163913\n"
     ]
    }
   ],
   "source": [
    "# Ridge Regression\n",
    "single_train_test = api.modelbuiding_obj.single_train_test(Ridge())\n",
    "cv = api.cross_validation_obj.cv_score(Ridge())\n",
    "print(single_train_test,\"\\n\",\"cv_score\",cv)"
   ]
  },
  {
   "cell_type": "code",
   "execution_count": 29,
   "metadata": {},
   "outputs": [
    {
     "name": "stderr",
     "output_type": "stream",
     "text": [
      "[Parallel(n_jobs=-1)]: Using backend LokyBackend with 8 concurrent workers.\n",
      "[Parallel(n_jobs=-1)]: Done   2 out of   5 | elapsed:    0.9s remaining:    1.4s\n",
      "[Parallel(n_jobs=-1)]: Done   5 out of   5 | elapsed:    1.1s finished\n"
     ]
    },
    {
     "name": "stdout",
     "output_type": "stream",
     "text": [
      "('train score', 0.7301934157678649, 'test score', 0.7268634639247704) \n",
      " cv_score 0.7286929156655202\n"
     ]
    }
   ],
   "source": [
    "# Lasso Regression\n",
    "single_train_test = api.modelbuiding_obj.single_train_test(Lasso())\n",
    "cv = api.cross_validation_obj.cv_score(Lasso())\n",
    "print(single_train_test,\"\\n\",\"cv_score\",cv)"
   ]
  },
  {
   "cell_type": "code",
   "execution_count": 30,
   "metadata": {},
   "outputs": [
    {
     "name": "stderr",
     "output_type": "stream",
     "text": [
      "[Parallel(n_jobs=-1)]: Using backend LokyBackend with 8 concurrent workers.\n",
      "[Parallel(n_jobs=-1)]: Done   2 out of   5 | elapsed:    3.6s remaining:    5.4s\n",
      "[Parallel(n_jobs=-1)]: Done   5 out of   5 | elapsed:    3.6s finished\n"
     ]
    },
    {
     "name": "stdout",
     "output_type": "stream",
     "text": [
      "('train score', 0.7333463567486882, 'test score', 0.7302023683236032) \n",
      " cv_score 0.7317192548375326\n"
     ]
    }
   ],
   "source": [
    "# Elasticnet\n",
    "single_train_test = api.modelbuiding_obj.single_train_test(ElasticNet())\n",
    "cv = api.cross_validation_obj.cv_score(ElasticNet())\n",
    "print(single_train_test,\"\\n\",\"cv_score\",cv)"
   ]
  },
  {
   "cell_type": "code",
   "execution_count": 31,
   "metadata": {},
   "outputs": [
    {
     "name": "stderr",
     "output_type": "stream",
     "text": [
      "[Parallel(n_jobs=-1)]: Using backend LokyBackend with 8 concurrent workers.\n",
      "[Parallel(n_jobs=-1)]: Done   2 out of   5 | elapsed:    9.4s remaining:   14.1s\n",
      "[Parallel(n_jobs=-1)]: Done   5 out of   5 | elapsed:   10.2s finished\n"
     ]
    },
    {
     "name": "stdout",
     "output_type": "stream",
     "text": [
      "('train score', 0.9993527192471694, 'test score', 0.9614597151412471) \n",
      " cv_score 0.885075750922115\n"
     ]
    }
   ],
   "source": [
    "# Decisiontree\n",
    "single_train_test = api.modelbuiding_obj.single_train_test(DecisionTreeRegressor())\n",
    "cv = api.cross_validation_obj.cv_score(DecisionTreeRegressor())\n",
    "print(single_train_test,\"\\n\",\"cv_score\",cv)"
   ]
  },
  {
   "cell_type": "code",
   "execution_count": 32,
   "metadata": {},
   "outputs": [
    {
     "name": "stderr",
     "output_type": "stream",
     "text": [
      "[Parallel(n_jobs=-1)]: Using backend LokyBackend with 8 concurrent workers.\n",
      "[Parallel(n_jobs=-1)]: Done   2 out of   5 | elapsed:  9.9min remaining: 14.9min\n",
      "[Parallel(n_jobs=-1)]: Done   5 out of   5 | elapsed: 10.0min finished\n"
     ]
    },
    {
     "name": "stdout",
     "output_type": "stream",
     "text": [
      "('train score', 0.9969999051898287, 'test score', 0.9825275814319049) \n",
      " cv_score 0.9533362377234388\n"
     ]
    }
   ],
   "source": [
    "# RandomForestRegressor \n",
    "single_train_test = api.modelbuiding_obj.single_train_test(RandomForestRegressor())\n",
    "cv = api.cross_validation_obj.cv_score(RandomForestRegressor())\n",
    "print(single_train_test,\"\\n\",\"cv_score\",cv)"
   ]
  },
  {
   "cell_type": "code",
   "execution_count": 33,
   "metadata": {},
   "outputs": [
    {
     "name": "stderr",
     "output_type": "stream",
     "text": [
      "[Parallel(n_jobs=-1)]: Using backend LokyBackend with 8 concurrent workers.\n",
      "[Parallel(n_jobs=-1)]: Done   2 out of   5 | elapsed:  1.9min remaining:  2.9min\n",
      "[Parallel(n_jobs=-1)]: Done   5 out of   5 | elapsed:  2.0min finished\n"
     ]
    },
    {
     "name": "stdout",
     "output_type": "stream",
     "text": [
      "('train score', 0.8050145385987689, 'test score', 0.8050010507865997) \n",
      " cv_score 0.8105632386693511\n"
     ]
    }
   ],
   "source": [
    "#  AdaAdaBoostRegressor\n",
    "single_train_test = api.modelbuiding_obj.single_train_test(AdaBoostRegressor())\n",
    "cv = api.cross_validation_obj.cv_score(AdaBoostRegressor())\n",
    "print(single_train_test,\"\\n\",\"cv_score\",cv)"
   ]
  },
  {
   "cell_type": "code",
   "execution_count": 34,
   "metadata": {},
   "outputs": [
    {
     "name": "stderr",
     "output_type": "stream",
     "text": [
      "[Parallel(n_jobs=-1)]: Using backend LokyBackend with 8 concurrent workers.\n",
      "[Parallel(n_jobs=-1)]: Done   2 out of   5 | elapsed:  3.4min remaining:  5.1min\n",
      "[Parallel(n_jobs=-1)]: Done   5 out of   5 | elapsed:  3.5min finished\n"
     ]
    },
    {
     "name": "stdout",
     "output_type": "stream",
     "text": [
      "('train score', 0.9371421865682474, 'test score', 0.9356211071429925) \n",
      " cv_score 0.9345101341421074\n"
     ]
    }
   ],
   "source": [
    "# Gradient boost Regression\n",
    "single_train_test = api.modelbuiding_obj.single_train_test(GradientBoostingRegressor())\n",
    "cv = api.cross_validation_obj.cv_score(GradientBoostingRegressor())\n",
    "print(single_train_test,\"\\n\",\"cv_score\",cv)"
   ]
  },
  {
   "cell_type": "code",
   "execution_count": 35,
   "metadata": {},
   "outputs": [
    {
     "name": "stderr",
     "output_type": "stream",
     "text": [
      "[Parallel(n_jobs=-1)]: Using backend LokyBackend with 8 concurrent workers.\n",
      "[Parallel(n_jobs=-1)]: Done   2 out of   5 | elapsed:  1.3min remaining:  1.9min\n",
      "[Parallel(n_jobs=-1)]: Done   5 out of   5 | elapsed:  1.4min finished\n"
     ]
    },
    {
     "name": "stdout",
     "output_type": "stream",
     "text": [
      "('train score', 0.9753691325213865, 'test score', 0.969946366534361) \n",
      " cv_score 0.9597771935025238\n"
     ]
    }
   ],
   "source": [
    "# XGBRegressor\n",
    "single_train_test = api.modelbuiding_obj.single_train_test(XGBRegressor())\n",
    "cv = api.cross_validation_obj.cv_score(XGBRegressor())\n",
    "print(single_train_test,\"\\n\",\"cv_score\",cv)"
   ]
  },
  {
   "cell_type": "code",
   "execution_count": 36,
   "metadata": {},
   "outputs": [],
   "source": [
    "# Based on Above observation we have selected the Randomforestregressor because it performed well for unseen data"
   ]
  },
  {
   "cell_type": "code",
   "execution_count": 37,
   "metadata": {},
   "outputs": [],
   "source": [
    "import pickle\n",
    "import joblib"
   ]
  },
  {
   "cell_type": "code",
   "execution_count": 38,
   "metadata": {},
   "outputs": [
    {
     "data": {
      "text/plain": [
       "RandomForestRegressor()"
      ]
     },
     "execution_count": 38,
     "metadata": {},
     "output_type": "execute_result"
    }
   ],
   "source": [
    "randomforest = RandomForestRegressor()\n",
    "randomforest.fit(xtrain,ytrain)"
   ]
  },
  {
   "cell_type": "code",
   "execution_count": 39,
   "metadata": {},
   "outputs": [],
   "source": [
    "pickle.dump(randomforest,open(\"RandomforestRegressor.sav\",\"wb\"))"
   ]
  },
  {
   "cell_type": "code",
   "execution_count": 40,
   "metadata": {},
   "outputs": [],
   "source": [
    "loaded_model = pickle.load(open(\"RandomforestRegressor.sav\",\"rb\"))"
   ]
  },
  {
   "cell_type": "code",
   "execution_count": 41,
   "metadata": {},
   "outputs": [
    {
     "name": "stdout",
     "output_type": "stream",
     "text": [
      "[70.87 79.96 67.   ... 76.46 61.68 71.4 ]\n"
     ]
    }
   ],
   "source": [
    "l = loaded_model.predict(xtest)\n",
    "print(l)"
   ]
  },
  {
   "cell_type": "code",
   "execution_count": null,
   "metadata": {},
   "outputs": [],
   "source": []
  },
  {
   "cell_type": "code",
   "execution_count": null,
   "metadata": {},
   "outputs": [],
   "source": []
  }
 ],
 "metadata": {
  "kernelspec": {
   "display_name": "Python 3",
   "language": "python",
   "name": "python3"
  },
  "language_info": {
   "codemirror_mode": {
    "name": "ipython",
    "version": 3
   },
   "file_extension": ".py",
   "mimetype": "text/x-python",
   "name": "python",
   "nbconvert_exporter": "python",
   "pygments_lexer": "ipython3",
   "version": "3.8.3"
  }
 },
 "nbformat": 4,
 "nbformat_minor": 4
}
